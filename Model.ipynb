{
 "cells": [
  {
   "cell_type": "code",
   "execution_count": 1,
   "metadata": {},
   "outputs": [],
   "source": [
    "#1. IMPORTING PACKAGES AND LIBRARIES\n",
    "%matplotlib inline\n",
    "%load_ext autoreload\n",
    "%autoreload 2\n",
    "\n",
    "import os\n",
    "import cartopy\n",
    "import cartopy.crs as ccrs\n",
    "from cartopy.mpl.gridliner import LONGITUDE_FORMATTER, LATITUDE_FORMATTER\n",
    "from cartopy.io.img_tiles import OSM\n",
    "from cartopy.io.img_tiles import GoogleTiles as moa\n",
    "from cycler import cycler\n",
    "import scipy\n",
    "import seaborn as sns\n",
    "\n",
    "import glob\n",
    "import cartopy.feature as cfeature\n",
    "import matplotlib.pyplot as plt\n",
    "import matplotlib.patches as mpatches\n",
    "import xarray as xr\n",
    "import pyproj\n",
    "import osr\n",
    "import datetime\n",
    "import subprocess\n",
    "import shutil\n",
    "import numpy as np\n",
    "from ipywidgets import interact\n",
    "import pandas as pd\n",
    "import pickle\n",
    "from scipy.signal import savgol_filter\n",
    "import time\n",
    "import statsmodels.api as sm\n",
    "import statsmodels.formula.api as smf\n",
    "from pandas.plotting import autocorrelation_plot\n",
    "from pandas.plotting import lag_plot\n",
    "\n",
    "\n",
    "#own libary\n",
    "import nsidc \n",
    "\n",
    "from functions_pmrs import loadCM\n",
    "from functions_pmrs import applyshift\n",
    "from functions_pmrs import calculateQR\n",
    "from functions_pmrs import probability\n"
   ]
  },
  {
   "cell_type": "code",
   "execution_count": 361,
   "metadata": {},
   "outputs": [
    {
     "name": "stderr",
     "output_type": "stream",
     "text": [
      "<ipython-input-361-524d3c077ad3>:59: FutureWarning: In xarray version 0.15 the default behaviour of `open_mfdataset`\n",
      "will change. To retain the existing behavior, pass\n",
      "combine='nested'. To use future default behavior, pass\n",
      "combine='by_coords'. See\n",
      "http://xarray.pydata.org/en/stable/combining.html#combining-multi\n",
      "\n",
      "  ds = xr.open_mfdataset(fns[0:10])\n",
      "/Users/oscarkeunen/opt/anaconda3/envs/afstuderen/lib/python3.8/site-packages/xarray/backends/api.py:926: FutureWarning: The datasets supplied have global dimension coordinates. You may want\n",
      "to use the new `combine_by_coords` function (or the\n",
      "`combine='by_coords'` option to `open_mfdataset`) to order the datasets\n",
      "before concatenation. Alternatively, to continue concatenating based\n",
      "on the order the datasets are supplied in future, please use the new\n",
      "`combine_nested` function (or the `combine='nested'` option to\n",
      "open_mfdataset).\n",
      "  combined = auto_combine(\n",
      "/Users/oscarkeunen/opt/anaconda3/envs/afstuderen/lib/python3.8/site-packages/pyproj/crs.py:77: FutureWarning: '+init=<authority>:<code>' syntax is deprecated. '<authority>:<code>' is the preferred initialization method.\n",
      "  return _prepare_from_string(\" \".join(pjargs))\n"
     ]
    }
   ],
   "source": [
    "#SELECT BOUNDS AND START / END DATES\n",
    "bounds = [( -19., 20.),\n",
    "          (-11., 27.),\n",
    "         ]\n",
    "\n",
    "# start_date = datetim.datetime(2002, 5, 29) # Start of the AMSR-E period\n",
    "# start_date = datetime.datetime(2004, 1, 1) # date after data recovery\n",
    "# end_date = datetime.datetime(2009, 12, 31)  # only a few days to make a demonstration\n",
    "# end_date = datetime.datetime(2004, 6, 30)  # use this end date to cover the whole AMSR-E period.\n",
    "# end_date = datetime.datetime(2002, 1, 2)\n",
    "\n",
    "#---------------------------#---------------------------#---------------------------#---------------------------#\n",
    "\n",
    "#Select set of POI's to use\n",
    "\n",
    "# points = pd.read_csv('poizambeziplain.csv')   #Kalabo (weinig goede resultaten)\n",
    "# points = pd.read_csv('poi_senaga.csv')\n",
    "points = pd.read_csv('POIs_RE_3p.csv')\n",
    "\n",
    "\n",
    "#adjust according to number of points in POI's\n",
    "points_interest = [(points.xcoord[0],points.ycoord[0]),\n",
    "                   (points.xcoord[1],points.ycoord[1])]\n",
    "#                    (points.xcoord[2],points.ycoord[2]),\n",
    "#                    (points.xcoord[3],points.ycoord[3]),\n",
    "#                    (points.xcoord[4],points.ycoord[4])]\n",
    "#                    (points.xcoord[5],points.ycoord[5])]\n",
    "#                    (points.xcoord[6],points.ycoord[6]) \n",
    "\n",
    "\n",
    "# Download discharge data, no adjustment \n",
    "# dQ = pd.read_csv('ZAMBEZIDISCHARGE.csv',sep=';',parse_dates=['DATE'],index_col = ['DATE'],na_filter=True)\n",
    "dQ = pd.read_csv('ZAMBEZIDISCHARGE.csv',sep=';',na_filter=True) #,parse_dates=['DATE'],index_col = ['DATE']\n",
    "dQ['Date'] = pd.to_datetime(dQ['Date'])\n",
    "\n",
    "\n",
    "\n",
    "#---------------------------#---------------------------#---------------------------#---------------------------#\n",
    "\n",
    "# DOWNLOAD THE CORRECT DATA\n",
    "# This cell calls the right download and \"glues\" the years together. \n",
    "\n",
    "fns=None\n",
    "\n",
    "year = 2009  #change year to select specific year to see [2002-2011]\n",
    "\n",
    "# 25 km resolution PMSR DATA\n",
    "# fns = glob.glob(f'/Users/oscarkeunen/Documents/1. TU Delft/1. Msc - Watermanagement/Afstuderen/satellite-cookbook-master/NSIDC-AMSRE/Sat_Data/25km36ghz/NSIDC_Test_{year}.nc')\n",
    "#select this next one for full period data string (whole AMSR period)\n",
    "fns = glob.glob('/Users/oscarkeunen/Documents/1. TU Delft/1. Msc - Watermanagement/Afstuderen/satellite-cookbook-master/NSIDC-AMSRE/Sat_Data/25km36ghz/*.nc') # select this line to get the whole AMSR-E period\n",
    "\n",
    "# 3.125 km resolution PMSR DATA\n",
    "\n",
    "# fns = glob.glob(f'/Users/oscarkeunen/Documents/1. TU Delft/1. Msc - Watermanagement/Afstuderen/satellite-cookbook-master/NSIDC-AMSRE/Sat_Data/3km36ghz/NSIDC_Test_{year}.nc')\n",
    "#select this next one for full period data string (whole AMSR period)\n",
    "# fns = glob.glob('/Users/oscarkeunen/Documents/1. TU Delft/1. Msc - Watermanagement/Afstuderen/satellite-cookbook-master/NSIDC-AMSRE/Sat_Data/3km36ghz/*.nc') # select this line to get the whole AMSR-E period\n",
    "\n",
    "fns.sort()\n",
    "ds = xr.open_mfdataset(fns[0:10])\n",
    "\n",
    "#---------------------------#---------------------------#---------------------------#---------------------------#\n",
    "\n",
    "# Discharge data location\n",
    "# location = 'Kalabo'  \n",
    "# location = 'Senanga'\n",
    "location = 'Lukulu'\n",
    "\n",
    "\n",
    "#---------------------------#---------------------------#---------------------------#---------------------------#\n",
    "\n",
    "\n",
    "# TRANSFORMING, NO ADJUSTMENT NEEDED\n",
    "proj4str = '+proj=cea +lat_0=0 +lon_0=0 +lat_ts=30 +x_0=0 +y_0=0 +ellps=WGS84 +datum=WGS84 +units=m'\n",
    "# we define a projection object for lat-lon WGS84 (EPSG code 4326)\n",
    "proj_out = pyproj.Proj(init='epsg:4326')\n",
    "# we define a projection object for the projection used in the downloaded grids.\n",
    "proj_in = pyproj.Proj(proj4str)\n",
    "\n",
    "# here we convert the coordinates in lat-lon into the coordinate system of the downloaded grids.\n",
    "bounds_xy = nsidc.proj_coords(bounds, proj_out, proj_in)\n",
    "points_xy = nsidc.proj_coords(points_interest, proj_out, proj_in)\n",
    "points_x, points_y = zip(*points_xy)\n",
    "\n",
    "#---------------------------#---------------------------#---------------------------#---------------------------#\n",
    "sns.set()"
   ]
  },
  {
   "cell_type": "code",
   "execution_count": 362,
   "metadata": {},
   "outputs": [],
   "source": [
    "\n",
    "shift=15\n",
    "rollingvalue =6\n",
    "selection= 5 # < number of months to be choosen\n",
    "plot = 0\n",
    "# month = 5 \n"
   ]
  },
  {
   "cell_type": "code",
   "execution_count": 288,
   "metadata": {},
   "outputs": [
    {
     "name": "stderr",
     "output_type": "stream",
     "text": [
      "/Users/oscarkeunen/Documents/1. TU Delft/1. Msc - Watermanagement/Afstuderen/satellite-cookbook-master/NSIDC-AMSRE/functions_pmrs.py:55: SettingWithCopyWarning: \n",
      "A value is trying to be set on a copy of a slice from a DataFrame\n",
      "\n",
      "See the caveats in the documentation: http://pandas.pydata.org/pandas-docs/stable/user_guide/indexing.html#returning-a-view-versus-a-copy\n",
      "  df[n][df[n]<0] = df[n].fillna(method='bfill',inplace=True)\n"
     ]
    }
   ],
   "source": [
    "df = loadCM(points_xy,ds, rollingvalue)\n",
    "df = applyshift(df,rollingvalue,shift,plot)\n",
    "fits,res = calculateQR(df,selection,plot,shift)\n",
    "pred = probability(df, fits, plot, shift,location)\n",
    "\n",
    "obs = df.POI4.values.copy()\n",
    "threshold =1.05"
   ]
  },
  {
   "cell_type": "code",
   "execution_count": null,
   "metadata": {},
   "outputs": [],
   "source": []
  },
  {
   "cell_type": "code",
   "execution_count": null,
   "metadata": {},
   "outputs": [],
   "source": []
  },
  {
   "cell_type": "markdown",
   "metadata": {},
   "source": [
    "## Function to compute confusion matrix (hits, false alarms, misses, correct negatives) and performance indexes (FAR, POD, POFD, CSI))\n",
    "\n",
    "\n",
    "\n",
    "Methodology adapted taking into account the consecutive day above thresholds as a unique flood period\n",
    "\n",
    "hits:              Number of peak period above thresholds that have at least one observation day within the period\n",
    "\n",
    "false alarm :      number of peak above threshold(consecutive day above discharge threshold as an event), minus the number of hits\n",
    "\n",
    "misses :           number of observed flood events no in a discharge peak period  above threshold\n",
    "\n",
    "correct negative : forcing the correct negative number to be the same than the number of observed flood events (misses + hits)\n",
    "\n"
   ]
  },
  {
   "cell_type": "code",
   "execution_count": 289,
   "metadata": {},
   "outputs": [],
   "source": [
    "def calc_performance_scores(obs, pred, threshold):\n",
    "\n",
    " \n",
    "    for i in range(len(obs)):\n",
    "        if obs[i] > threshold:\n",
    "            obs[i] =1\n",
    "        else:\n",
    "            obs[i]=0\n",
    "            \n",
    "    for j in range(len(pred)):\n",
    "        if pred[j] > threshold:\n",
    "            pred[j] =1\n",
    "        else:\n",
    "            pred[j]=0\n",
    "\n",
    "#     print(obs)\n",
    "#     print(pred) \n",
    "\n",
    "    \n",
    "    \n",
    "    hits = len(np.where((obs==1) & (pred ==1))[0])\n",
    "    false_al = len(np.where((obs==0) & (pred ==1))[0])\n",
    "    misses = len(np.where((obs==1) & (pred ==0))[0])\n",
    "    corr_neg = len(np.where((obs==0) & (pred ==0))[0])\n",
    "    \n",
    "#     print((hits))\n",
    "#     print((misses))\n",
    "#     print((false_al))\n",
    "#     print((corr_neg))\n",
    "\n",
    "    output = np.zeros((4,))\n",
    "    output[0] = hits / (hits + misses) #Probability of Detection\n",
    "    output[1] = false_al / (hits + false_al) #False Alarm Rate\n",
    "    output[2] = false_al / (false_al + corr_neg) #Probability of fase detection\n",
    "    output[3] = hits / (hits + false_al + misses) #Critical succes index\n",
    "\n",
    "\n",
    "    return output\n",
    "\n",
    "\n",
    "#     df= pd.DataFrame({'cons_class': pred.diff().ne(0).cumsum(), 'hits':(obs==1) & (pred ==1)})\n",
    "#     hits= df[['cons_class','hits' ]].drop_duplicates().hits[df.hits == True].count()\n",
    "#     false_al = (pred.loc[pred.shift() != pred].sum ()) - hits \n",
    "#     misses = sum((obs == 1) & (pred ==0))\n",
    "#     corr_neg = misses + hits\n",
    "\n",
    "\n",
    "#     output = {}\n",
    "#     output['pod'] = hits / (hits + misses) #Probability of Detection\n",
    "#     output['far'] = false_al / (hits + false_al) #False Alarm Rate\n",
    "#     output['pofd'] = false_al / (false_al + corr_neg) #Probability of fase detection\n",
    "#     output['csi'] = hits / (hits + false_al + misses) #Critical succes index\n",
    "#output=pd.Series(output)\n"
   ]
  },
  {
   "cell_type": "code",
   "execution_count": 290,
   "metadata": {},
   "outputs": [
    {
     "name": "stdout",
     "output_type": "stream",
     "text": [
      "[0. 0. 0. ... 0. 0. 0.]\n",
      "[0. 0. 0. ... 0. 0. 0.]\n",
      "900\n",
      "5\n",
      "432\n",
      "1585\n"
     ]
    },
    {
     "data": {
      "text/plain": [
       "Text(0.5, 0, 'False Alarm Rate [-]')"
      ]
     },
     "execution_count": 290,
     "metadata": {},
     "output_type": "execute_result"
    },
    {
     "data": {
      "image/png": "[encoded data removed]",
      "text/plain": [
       "<Figure size 432x288 with 1 Axes>"
      ]
     },
     "metadata": {},
     "output_type": "display_data"
    }
   ],
   "source": [
    "output = calc_performance_scores(obs,pred[4],threshold)\n",
    "\n",
    "\n",
    "plt.plot(output[2],output[0],'-o',color ='b')\n",
    "plt.xlim([-0.1,1.05])\n",
    "plt.ylim([-0.1,1.05])\n",
    "plt.title(f'HOC figure shift = {shift}')\n",
    "plt.ylabel('Hitrate [-]')\n",
    "plt.xlabel('False Alarm Rate [-]')"
   ]
  },
  {
   "cell_type": "code",
   "execution_count": 291,
   "metadata": {},
   "outputs": [
    {
     "name": "stderr",
     "output_type": "stream",
     "text": [
      "/Users/oscarkeunen/Documents/1. TU Delft/1. Msc - Watermanagement/Afstuderen/satellite-cookbook-master/NSIDC-AMSRE/functions_pmrs.py:55: SettingWithCopyWarning: \n",
      "A value is trying to be set on a copy of a slice from a DataFrame\n",
      "\n",
      "See the caveats in the documentation: http://pandas.pydata.org/pandas-docs/stable/user_guide/indexing.html#returning-a-view-versus-a-copy\n",
      "  df[n][df[n]<0] = df[n].fillna(method='bfill',inplace=True)\n"
     ]
    }
   ],
   "source": [
    "df = loadCM(points_xy,ds, rollingvalue)\n",
    "df = applyshift(df,rollingvalue,shift,plot)\n",
    "fits,res = calculateQR(df,selection,plot,shift)\n",
    "pred = probability(df, fits, plot, shift,location)\n",
    "\n",
    "obs = df.POI4.values.copy()\n",
    "# threshold =1"
   ]
  },
  {
   "cell_type": "code",
   "execution_count": 364,
   "metadata": {},
   "outputs": [
    {
     "name": "stderr",
     "output_type": "stream",
     "text": [
      "/Users/oscarkeunen/Documents/1. TU Delft/1. Msc - Watermanagement/Afstuderen/satellite-cookbook-master/NSIDC-AMSRE/functions_pmrs.py:55: SettingWithCopyWarning: \n",
      "A value is trying to be set on a copy of a slice from a DataFrame\n",
      "\n",
      "See the caveats in the documentation: http://pandas.pydata.org/pandas-docs/stable/user_guide/indexing.html#returning-a-view-versus-a-copy\n",
      "  df[n][df[n]<0] = df[n].fillna(method='bfill',inplace=True)\n"
     ]
    },
    {
     "name": "stdout",
     "output_type": "stream",
     "text": [
      "[0. 0. 0. ... 0. 0. 0.]\n",
      "[0. 0. 0. ... 1. 1. 1.]\n",
      "384\n",
      "544\n",
      "27\n",
      "1967\n"
     ]
    },
    {
     "name": "stderr",
     "output_type": "stream",
     "text": [
      "/Users/oscarkeunen/Documents/1. TU Delft/1. Msc - Watermanagement/Afstuderen/satellite-cookbook-master/NSIDC-AMSRE/functions_pmrs.py:55: SettingWithCopyWarning: \n",
      "A value is trying to be set on a copy of a slice from a DataFrame\n",
      "\n",
      "See the caveats in the documentation: http://pandas.pydata.org/pandas-docs/stable/user_guide/indexing.html#returning-a-view-versus-a-copy\n",
      "  df[n][df[n]<0] = df[n].fillna(method='bfill',inplace=True)\n"
     ]
    },
    {
     "name": "stdout",
     "output_type": "stream",
     "text": [
      "[0. 0. 0. ... 0. 0. 0.]\n",
      "[0. 0. 0. ... 1. 1. 1.]\n",
      "520\n",
      "408\n",
      "75\n",
      "1919\n"
     ]
    },
    {
     "name": "stderr",
     "output_type": "stream",
     "text": [
      "/Users/oscarkeunen/Documents/1. TU Delft/1. Msc - Watermanagement/Afstuderen/satellite-cookbook-master/NSIDC-AMSRE/functions_pmrs.py:55: SettingWithCopyWarning: \n",
      "A value is trying to be set on a copy of a slice from a DataFrame\n",
      "\n",
      "See the caveats in the documentation: http://pandas.pydata.org/pandas-docs/stable/user_guide/indexing.html#returning-a-view-versus-a-copy\n",
      "  df[n][df[n]<0] = df[n].fillna(method='bfill',inplace=True)\n"
     ]
    },
    {
     "name": "stdout",
     "output_type": "stream",
     "text": [
      "[0. 0. 0. ... 0. 0. 0.]\n",
      "[0. 0. 0. ... 1. 1. 1.]\n",
      "638\n",
      "290\n",
      "254\n",
      "1740\n"
     ]
    },
    {
     "name": "stderr",
     "output_type": "stream",
     "text": [
      "/Users/oscarkeunen/Documents/1. TU Delft/1. Msc - Watermanagement/Afstuderen/satellite-cookbook-master/NSIDC-AMSRE/functions_pmrs.py:55: SettingWithCopyWarning: \n",
      "A value is trying to be set on a copy of a slice from a DataFrame\n",
      "\n",
      "See the caveats in the documentation: http://pandas.pydata.org/pandas-docs/stable/user_guide/indexing.html#returning-a-view-versus-a-copy\n",
      "  df[n][df[n]<0] = df[n].fillna(method='bfill',inplace=True)\n"
     ]
    },
    {
     "name": "stdout",
     "output_type": "stream",
     "text": [
      "[0. 0. 0. ... 0. 0. 0.]\n",
      "[1. 1. 1. ... 1. 1. 1.]\n",
      "749\n",
      "179\n",
      "736\n",
      "1258\n"
     ]
    },
    {
     "name": "stderr",
     "output_type": "stream",
     "text": [
      "/Users/oscarkeunen/Documents/1. TU Delft/1. Msc - Watermanagement/Afstuderen/satellite-cookbook-master/NSIDC-AMSRE/functions_pmrs.py:55: SettingWithCopyWarning: \n",
      "A value is trying to be set on a copy of a slice from a DataFrame\n",
      "\n",
      "See the caveats in the documentation: http://pandas.pydata.org/pandas-docs/stable/user_guide/indexing.html#returning-a-view-versus-a-copy\n",
      "  df[n][df[n]<0] = df[n].fillna(method='bfill',inplace=True)\n"
     ]
    },
    {
     "name": "stdout",
     "output_type": "stream",
     "text": [
      "[0. 0. 0. ... 0. 0. 0.]\n",
      "[1. 1. 1. ... 1. 1. 1.]\n",
      "846\n",
      "82\n",
      "1373\n",
      "621\n",
      "[[0.4137931  0.06569343 0.01354062 0.40209424]\n",
      " [0.56034483 0.12605042 0.03761284 0.51844467]\n",
      " [0.6875     0.28475336 0.12738215 0.53976311]\n",
      " [0.80711207 0.4956229  0.36910732 0.45012019]\n",
      " [0.91163793 0.61874718 0.6885657  0.36766623]]\n"
     ]
    },
    {
     "data": {
      "text/plain": [
       "Text(0.5, 0, 'Prob. of False Alarm [-]')"
      ]
     },
     "execution_count": 364,
     "metadata": {},
     "output_type": "execute_result"
    },
    {
     "data": {
      "image/png": "[encoded data removed]",
      "text/plain": [
       "<Figure size 432x288 with 2 Axes>"
      ]
     },
     "metadata": {},
     "output_type": "display_data"
    }
   ],
   "source": [
    "HOC =np.zeros((5,4))\n",
    "threshold =1.0\n",
    "shift=7\n",
    "\n",
    "for n in range (5):\n",
    "    df = loadCM(points_xy,ds, rollingvalue)\n",
    "    df = applyshift(df,rollingvalue,shift,plot)\n",
    "    fits,res = calculateQR(df,selection,plot,shift)\n",
    "    pred = probability(df, fits, plot, shift,location)\n",
    "    obs = df.POI4.values.copy()\n",
    "    \n",
    "    output = calc_performance_scores(obs,pred[n],threshold)\n",
    "#     print(output)\n",
    "    HOC [n]= output\n",
    "print(HOC)\n",
    "\n",
    "# # plt.scatter(HOC[1,:],HOC[0,:],color='g')\n",
    "# # plt.scatter(HOC[2,:],HOC[0,:],color ='r')\n",
    "plt.figure()\n",
    "\n",
    "\n",
    "plt.subplot(1,2,1)\n",
    "plt.plot(HOC[:,2],HOC[:,0],'-o',color ='b')\n",
    "plt.xlim([-0.1,1.05])\n",
    "plt.ylim([-0.1,1.05])\n",
    "plt.title(f'HOC figure shift = {shift}')\n",
    "plt.ylabel('Hitrate [-]')\n",
    "plt.xlabel('False Alarm Rate [-]')\n",
    "\n",
    "plt.subplot(1,2,2)\n",
    "plt.plot(HOC[:,1],HOC[:,0],'-o',color ='r')\n",
    "plt.xlim([-0.1,1.05])\n",
    "plt.ylim([-0.1,1.05])\n",
    "plt.title(f'HOC figure shift = {shift}')\n",
    "plt.ylabel('Hitrate [-]')\n",
    "plt.xlabel('Prob. of False Alarm [-]')\n",
    "\n"
   ]
  },
  {
   "cell_type": "code",
   "execution_count": 366,
   "metadata": {},
   "outputs": [
    {
     "name": "stderr",
     "output_type": "stream",
     "text": [
      "/Users/oscarkeunen/Documents/1. TU Delft/1. Msc - Watermanagement/Afstuderen/satellite-cookbook-master/NSIDC-AMSRE/functions_pmrs.py:55: SettingWithCopyWarning: \n",
      "A value is trying to be set on a copy of a slice from a DataFrame\n",
      "\n",
      "See the caveats in the documentation: http://pandas.pydata.org/pandas-docs/stable/user_guide/indexing.html#returning-a-view-versus-a-copy\n",
      "  df[n][df[n]<0] = df[n].fillna(method='bfill',inplace=True)\n"
     ]
    },
    {
     "name": "stdout",
     "output_type": "stream",
     "text": [
      "[0. 0. 0. ... 0. 0. 0.]\n",
      "[0. 0. 0. ... 1. 1. 0.]\n",
      "275\n",
      "653\n",
      "24\n",
      "1970\n",
      "[0. 0. 0. ... 0. 0. 0.]\n",
      "[0. 0. 0. ... 1. 1. 0.]\n",
      "489\n",
      "439\n",
      "73\n",
      "1921\n",
      "[0. 0. 0. ... 0. 0. 0.]\n",
      "[0. 0. 0. ... 1. 1. 0.]\n",
      "606\n",
      "322\n",
      "223\n",
      "1771\n",
      "[0. 0. 0. ... 0. 0. 0.]\n",
      "[1. 1. 1. ... 1. 1. 1.]\n",
      "737\n",
      "191\n",
      "556\n",
      "1438\n",
      "[0. 0. 0. ... 0. 0. 0.]\n",
      "[1. 1. 1. ... 1. 1. 1.]\n",
      "831\n",
      "97\n",
      "1224\n",
      "770\n"
     ]
    },
    {
     "name": "stderr",
     "output_type": "stream",
     "text": [
      "/Users/oscarkeunen/Documents/1. TU Delft/1. Msc - Watermanagement/Afstuderen/satellite-cookbook-master/NSIDC-AMSRE/functions_pmrs.py:55: SettingWithCopyWarning: \n",
      "A value is trying to be set on a copy of a slice from a DataFrame\n",
      "\n",
      "See the caveats in the documentation: http://pandas.pydata.org/pandas-docs/stable/user_guide/indexing.html#returning-a-view-versus-a-copy\n",
      "  df[n][df[n]<0] = df[n].fillna(method='bfill',inplace=True)\n"
     ]
    },
    {
     "name": "stdout",
     "output_type": "stream",
     "text": [
      "[0. 0. 0. ... 0. 0. 0.]\n",
      "[0. 0. 0. ... 1. 1. 1.]\n",
      "291\n",
      "637\n",
      "27\n",
      "1967\n",
      "[0. 0. 0. ... 0. 0. 0.]\n",
      "[0. 0. 0. ... 1. 1. 1.]\n",
      "494\n",
      "434\n",
      "76\n",
      "1918\n",
      "[0. 0. 0. ... 0. 0. 0.]\n",
      "[0. 0. 0. ... 1. 1. 1.]\n",
      "609\n",
      "319\n",
      "220\n",
      "1774\n",
      "[0. 0. 0. ... 0. 0. 0.]\n",
      "[1. 1. 1. ... 1. 1. 1.]\n",
      "734\n",
      "194\n",
      "573\n",
      "1421\n",
      "[0. 0. 0. ... 0. 0. 0.]\n",
      "[1. 1. 1. ... 1. 1. 1.]\n",
      "837\n",
      "91\n",
      "1336\n",
      "658\n"
     ]
    },
    {
     "name": "stderr",
     "output_type": "stream",
     "text": [
      "/Users/oscarkeunen/Documents/1. TU Delft/1. Msc - Watermanagement/Afstuderen/satellite-cookbook-master/NSIDC-AMSRE/functions_pmrs.py:55: SettingWithCopyWarning: \n",
      "A value is trying to be set on a copy of a slice from a DataFrame\n",
      "\n",
      "See the caveats in the documentation: http://pandas.pydata.org/pandas-docs/stable/user_guide/indexing.html#returning-a-view-versus-a-copy\n",
      "  df[n][df[n]<0] = df[n].fillna(method='bfill',inplace=True)\n"
     ]
    },
    {
     "name": "stdout",
     "output_type": "stream",
     "text": [
      "[0. 0. 0. ... 0. 0. 0.]\n",
      "[0. 0. 0. ... 1. 1. 1.]\n",
      "295\n",
      "633\n",
      "23\n",
      "1971\n",
      "[0. 0. 0. ... 0. 0. 0.]\n",
      "[0. 0. 0. ... 1. 1. 1.]\n",
      "503\n",
      "425\n",
      "80\n",
      "1914\n",
      "[0. 0. 0. ... 0. 0. 0.]\n",
      "[0. 0. 0. ... 1. 1. 1.]\n",
      "614\n",
      "314\n",
      "221\n",
      "1773\n",
      "[0. 0. 0. ... 0. 0. 0.]\n",
      "[1. 1. 1. ... 1. 1. 1.]\n",
      "733\n",
      "195\n",
      "579\n",
      "1415\n",
      "[0. 0. 0. ... 0. 0. 0.]\n",
      "[1. 1. 1. ... 1. 1. 1.]\n",
      "840\n",
      "88\n",
      "1356\n",
      "638\n"
     ]
    },
    {
     "name": "stderr",
     "output_type": "stream",
     "text": [
      "/Users/oscarkeunen/Documents/1. TU Delft/1. Msc - Watermanagement/Afstuderen/satellite-cookbook-master/NSIDC-AMSRE/functions_pmrs.py:55: SettingWithCopyWarning: \n",
      "A value is trying to be set on a copy of a slice from a DataFrame\n",
      "\n",
      "See the caveats in the documentation: http://pandas.pydata.org/pandas-docs/stable/user_guide/indexing.html#returning-a-view-versus-a-copy\n",
      "  df[n][df[n]<0] = df[n].fillna(method='bfill',inplace=True)\n"
     ]
    },
    {
     "name": "stdout",
     "output_type": "stream",
     "text": [
      "[0. 0. 0. ... 0. 0. 0.]\n",
      "[0. 0. 0. ... 1. 1. 1.]\n",
      "308\n",
      "620\n",
      "20\n",
      "1974\n",
      "[0. 0. 0. ... 0. 0. 0.]\n",
      "[0. 0. 0. ... 1. 1. 1.]\n",
      "511\n",
      "417\n",
      "79\n",
      "1915\n",
      "[0. 0. 0. ... 0. 0. 0.]\n",
      "[0. 0. 0. ... 1. 1. 1.]\n",
      "620\n",
      "308\n",
      "229\n",
      "1765\n",
      "[0. 0. 0. ... 0. 0. 0.]\n",
      "[1. 1. 1. ... 1. 1. 1.]\n",
      "731\n",
      "197\n",
      "581\n",
      "1413\n",
      "[0. 0. 0. ... 0. 0. 0.]\n",
      "[1. 1. 1. ... 1. 1. 1.]\n",
      "854\n",
      "74\n",
      "1408\n",
      "586\n"
     ]
    },
    {
     "name": "stderr",
     "output_type": "stream",
     "text": [
      "/Users/oscarkeunen/Documents/1. TU Delft/1. Msc - Watermanagement/Afstuderen/satellite-cookbook-master/NSIDC-AMSRE/functions_pmrs.py:55: SettingWithCopyWarning: \n",
      "A value is trying to be set on a copy of a slice from a DataFrame\n",
      "\n",
      "See the caveats in the documentation: http://pandas.pydata.org/pandas-docs/stable/user_guide/indexing.html#returning-a-view-versus-a-copy\n",
      "  df[n][df[n]<0] = df[n].fillna(method='bfill',inplace=True)\n"
     ]
    },
    {
     "name": "stdout",
     "output_type": "stream",
     "text": [
      "[0. 0. 0. ... 0. 0. 0.]\n",
      "[0. 0. 0. ... 1. 1. 1.]\n",
      "335\n",
      "593\n",
      "22\n",
      "1972\n",
      "[0. 0. 0. ... 0. 0. 0.]\n",
      "[0. 0. 0. ... 1. 1. 1.]\n",
      "515\n",
      "413\n",
      "83\n",
      "1911\n",
      "[0. 0. 0. ... 0. 0. 0.]\n",
      "[0. 0. 0. ... 1. 1. 1.]\n",
      "623\n",
      "305\n",
      "236\n",
      "1758\n",
      "[0. 0. 0. ... 0. 0. 0.]\n",
      "[1. 1. 1. ... 1. 1. 1.]\n",
      "731\n",
      "197\n",
      "591\n",
      "1403\n",
      "[0. 0. 0. ... 0. 0. 0.]\n",
      "[1. 1. 1. ... 1. 1. 1.]\n",
      "854\n",
      "74\n",
      "1405\n",
      "589\n"
     ]
    },
    {
     "name": "stderr",
     "output_type": "stream",
     "text": [
      "/Users/oscarkeunen/Documents/1. TU Delft/1. Msc - Watermanagement/Afstuderen/satellite-cookbook-master/NSIDC-AMSRE/functions_pmrs.py:55: SettingWithCopyWarning: \n",
      "A value is trying to be set on a copy of a slice from a DataFrame\n",
      "\n",
      "See the caveats in the documentation: http://pandas.pydata.org/pandas-docs/stable/user_guide/indexing.html#returning-a-view-versus-a-copy\n",
      "  df[n][df[n]<0] = df[n].fillna(method='bfill',inplace=True)\n"
     ]
    },
    {
     "name": "stdout",
     "output_type": "stream",
     "text": [
      "[0. 0. 0. ... 0. 0. 0.]\n",
      "[0. 0. 0. ... 1. 1. 1.]\n",
      "343\n",
      "585\n",
      "22\n",
      "1972\n",
      "[0. 0. 0. ... 0. 0. 0.]\n",
      "[0. 0. 0. ... 1. 1. 1.]\n",
      "516\n",
      "412\n",
      "83\n",
      "1911\n",
      "[0. 0. 0. ... 0. 0. 0.]\n",
      "[0. 0. 0. ... 1. 1. 1.]\n",
      "627\n",
      "301\n",
      "242\n",
      "1752\n",
      "[0. 0. 0. ... 0. 0. 0.]\n",
      "[1. 1. 1. ... 1. 1. 1.]\n",
      "733\n",
      "195\n",
      "595\n",
      "1399\n",
      "[0. 0. 0. ... 0. 0. 0.]\n",
      "[1. 1. 1. ... 1. 1. 1.]\n",
      "855\n",
      "73\n",
      "1404\n",
      "590\n"
     ]
    },
    {
     "name": "stderr",
     "output_type": "stream",
     "text": [
      "/Users/oscarkeunen/Documents/1. TU Delft/1. Msc - Watermanagement/Afstuderen/satellite-cookbook-master/NSIDC-AMSRE/functions_pmrs.py:55: SettingWithCopyWarning: \n",
      "A value is trying to be set on a copy of a slice from a DataFrame\n",
      "\n",
      "See the caveats in the documentation: http://pandas.pydata.org/pandas-docs/stable/user_guide/indexing.html#returning-a-view-versus-a-copy\n",
      "  df[n][df[n]<0] = df[n].fillna(method='bfill',inplace=True)\n"
     ]
    },
    {
     "name": "stdout",
     "output_type": "stream",
     "text": [
      "[0. 0. 0. ... 0. 0. 0.]\n",
      "[0. 0. 0. ... 1. 1. 1.]\n",
      "374\n",
      "554\n",
      "25\n",
      "1969\n",
      "[0. 0. 0. ... 0. 0. 0.]\n",
      "[0. 0. 0. ... 1. 1. 1.]\n",
      "518\n",
      "410\n",
      "83\n",
      "1911\n",
      "[0. 0. 0. ... 0. 0. 0.]\n",
      "[0. 0. 0. ... 1. 1. 1.]\n",
      "629\n",
      "299\n",
      "246\n",
      "1748\n",
      "[0. 0. 0. ... 0. 0. 0.]\n",
      "[1. 1. 1. ... 1. 1. 1.]\n",
      "745\n",
      "183\n",
      "700\n",
      "1294\n",
      "[0. 0. 0. ... 0. 0. 0.]\n",
      "[1. 1. 1. ... 1. 1. 1.]\n",
      "853\n",
      "75\n",
      "1403\n",
      "591\n"
     ]
    },
    {
     "name": "stderr",
     "output_type": "stream",
     "text": [
      "/Users/oscarkeunen/Documents/1. TU Delft/1. Msc - Watermanagement/Afstuderen/satellite-cookbook-master/NSIDC-AMSRE/functions_pmrs.py:55: SettingWithCopyWarning: \n",
      "A value is trying to be set on a copy of a slice from a DataFrame\n",
      "\n",
      "See the caveats in the documentation: http://pandas.pydata.org/pandas-docs/stable/user_guide/indexing.html#returning-a-view-versus-a-copy\n",
      "  df[n][df[n]<0] = df[n].fillna(method='bfill',inplace=True)\n"
     ]
    },
    {
     "name": "stdout",
     "output_type": "stream",
     "text": [
      "[0. 0. 0. ... 0. 0. 0.]\n",
      "[0. 0. 0. ... 1. 1. 1.]\n",
      "384\n",
      "544\n",
      "27\n",
      "1967\n",
      "[0. 0. 0. ... 0. 0. 0.]\n",
      "[0. 0. 0. ... 1. 1. 1.]\n",
      "520\n",
      "408\n",
      "75\n",
      "1919\n",
      "[0. 0. 0. ... 0. 0. 0.]\n",
      "[0. 0. 0. ... 1. 1. 1.]\n",
      "638\n",
      "290\n",
      "254\n",
      "1740\n",
      "[0. 0. 0. ... 0. 0. 0.]\n",
      "[1. 1. 1. ... 1. 1. 1.]\n",
      "749\n",
      "179\n",
      "736\n",
      "1258\n",
      "[0. 0. 0. ... 0. 0. 0.]\n",
      "[1. 1. 1. ... 1. 1. 1.]\n",
      "846\n",
      "82\n",
      "1373\n",
      "621\n"
     ]
    },
    {
     "name": "stderr",
     "output_type": "stream",
     "text": [
      "/Users/oscarkeunen/Documents/1. TU Delft/1. Msc - Watermanagement/Afstuderen/satellite-cookbook-master/NSIDC-AMSRE/functions_pmrs.py:55: SettingWithCopyWarning: \n",
      "A value is trying to be set on a copy of a slice from a DataFrame\n",
      "\n",
      "See the caveats in the documentation: http://pandas.pydata.org/pandas-docs/stable/user_guide/indexing.html#returning-a-view-versus-a-copy\n",
      "  df[n][df[n]<0] = df[n].fillna(method='bfill',inplace=True)\n"
     ]
    },
    {
     "name": "stdout",
     "output_type": "stream",
     "text": [
      "[0. 0. 0. ... 0. 0. 0.]\n",
      "[0. 0. 0. ... 1. 1. 1.]\n",
      "394\n",
      "534\n",
      "23\n",
      "1971\n",
      "[0. 0. 0. ... 0. 0. 0.]\n",
      "[0. 0. 0. ... 1. 1. 1.]\n",
      "523\n",
      "405\n",
      "73\n",
      "1921\n",
      "[0. 0. 0. ... 0. 0. 0.]\n",
      "[0. 0. 0. ... 1. 1. 1.]\n",
      "642\n",
      "286\n",
      "256\n",
      "1738\n",
      "[0. 0. 0. ... 0. 0. 0.]\n",
      "[1. 1. 1. ... 1. 1. 1.]\n",
      "749\n",
      "179\n",
      "757\n",
      "1237\n",
      "[0. 0. 0. ... 0. 0. 0.]\n",
      "[1. 1. 1. ... 1. 1. 1.]\n",
      "849\n",
      "79\n",
      "1388\n",
      "606\n"
     ]
    },
    {
     "name": "stderr",
     "output_type": "stream",
     "text": [
      "/Users/oscarkeunen/Documents/1. TU Delft/1. Msc - Watermanagement/Afstuderen/satellite-cookbook-master/NSIDC-AMSRE/functions_pmrs.py:55: SettingWithCopyWarning: \n",
      "A value is trying to be set on a copy of a slice from a DataFrame\n",
      "\n",
      "See the caveats in the documentation: http://pandas.pydata.org/pandas-docs/stable/user_guide/indexing.html#returning-a-view-versus-a-copy\n",
      "  df[n][df[n]<0] = df[n].fillna(method='bfill',inplace=True)\n"
     ]
    },
    {
     "name": "stdout",
     "output_type": "stream",
     "text": [
      "[0. 0. 0. ... 0. 0. 0.]\n",
      "[0. 0. 0. ... 1. 1. 1.]\n",
      "396\n",
      "532\n",
      "20\n",
      "1974\n",
      "[0. 0. 0. ... 0. 0. 0.]\n",
      "[0. 0. 0. ... 1. 1. 1.]\n",
      "526\n",
      "402\n",
      "69\n",
      "1925\n",
      "[0. 0. 0. ... 0. 0. 0.]\n",
      "[0. 0. 0. ... 1. 1. 1.]\n",
      "646\n",
      "282\n",
      "255\n",
      "1739\n",
      "[0. 0. 0. ... 0. 0. 0.]\n",
      "[1. 1. 1. ... 1. 1. 1.]\n",
      "757\n",
      "171\n",
      "793\n",
      "1201\n",
      "[0. 0. 0. ... 0. 0. 0.]\n",
      "[1. 1. 1. ... 1. 1. 1.]\n",
      "851\n",
      "77\n",
      "1406\n",
      "588\n"
     ]
    },
    {
     "name": "stderr",
     "output_type": "stream",
     "text": [
      "/Users/oscarkeunen/Documents/1. TU Delft/1. Msc - Watermanagement/Afstuderen/satellite-cookbook-master/NSIDC-AMSRE/functions_pmrs.py:55: SettingWithCopyWarning: \n",
      "A value is trying to be set on a copy of a slice from a DataFrame\n",
      "\n",
      "See the caveats in the documentation: http://pandas.pydata.org/pandas-docs/stable/user_guide/indexing.html#returning-a-view-versus-a-copy\n",
      "  df[n][df[n]<0] = df[n].fillna(method='bfill',inplace=True)\n"
     ]
    },
    {
     "name": "stdout",
     "output_type": "stream",
     "text": [
      "[0. 0. 0. ... 0. 0. 0.]\n",
      "[0. 0. 0. ... 1. 1. 1.]\n",
      "398\n",
      "530\n",
      "20\n",
      "1974\n",
      "[0. 0. 0. ... 0. 0. 0.]\n",
      "[0. 0. 0. ... 1. 1. 1.]\n",
      "527\n",
      "401\n",
      "67\n",
      "1927\n",
      "[0. 0. 0. ... 0. 0. 0.]\n",
      "[0. 0. 0. ... 1. 1. 1.]\n",
      "645\n",
      "283\n",
      "258\n",
      "1736\n",
      "[0. 0. 0. ... 0. 0. 0.]\n",
      "[1. 1. 1. ... 1. 1. 1.]\n",
      "764\n",
      "164\n",
      "885\n",
      "1109\n",
      "[0. 0. 0. ... 0. 0. 0.]\n",
      "[1. 1. 1. ... 1. 1. 1.]\n",
      "850\n",
      "78\n",
      "1418\n",
      "576\n"
     ]
    },
    {
     "name": "stderr",
     "output_type": "stream",
     "text": [
      "/Users/oscarkeunen/Documents/1. TU Delft/1. Msc - Watermanagement/Afstuderen/satellite-cookbook-master/NSIDC-AMSRE/functions_pmrs.py:55: SettingWithCopyWarning: \n",
      "A value is trying to be set on a copy of a slice from a DataFrame\n",
      "\n",
      "See the caveats in the documentation: http://pandas.pydata.org/pandas-docs/stable/user_guide/indexing.html#returning-a-view-versus-a-copy\n",
      "  df[n][df[n]<0] = df[n].fillna(method='bfill',inplace=True)\n"
     ]
    },
    {
     "name": "stdout",
     "output_type": "stream",
     "text": [
      "[0. 0. 0. ... 0. 0. 0.]\n",
      "[0. 0. 0. ... 1. 1. 1.]\n",
      "398\n",
      "530\n",
      "21\n",
      "1973\n",
      "[0. 0. 0. ... 0. 0. 0.]\n",
      "[0. 0. 0. ... 1. 1. 1.]\n",
      "528\n",
      "400\n",
      "70\n",
      "1924\n",
      "[0. 0. 0. ... 0. 0. 0.]\n",
      "[0. 0. 0. ... 1. 1. 1.]\n",
      "643\n",
      "285\n",
      "277\n",
      "1717\n",
      "[0. 0. 0. ... 0. 0. 0.]\n",
      "[1. 1. 1. ... 1. 1. 1.]\n",
      "765\n",
      "163\n",
      "955\n",
      "1039\n",
      "[0. 0. 0. ... 0. 0. 0.]\n",
      "[1. 1. 1. ... 1. 1. 1.]\n",
      "861\n",
      "67\n",
      "1463\n",
      "531\n"
     ]
    },
    {
     "name": "stderr",
     "output_type": "stream",
     "text": [
      "/Users/oscarkeunen/Documents/1. TU Delft/1. Msc - Watermanagement/Afstuderen/satellite-cookbook-master/NSIDC-AMSRE/functions_pmrs.py:55: SettingWithCopyWarning: \n",
      "A value is trying to be set on a copy of a slice from a DataFrame\n",
      "\n",
      "See the caveats in the documentation: http://pandas.pydata.org/pandas-docs/stable/user_guide/indexing.html#returning-a-view-versus-a-copy\n",
      "  df[n][df[n]<0] = df[n].fillna(method='bfill',inplace=True)\n"
     ]
    },
    {
     "name": "stdout",
     "output_type": "stream",
     "text": [
      "[0. 0. 0. ... 0. 0. 0.]\n",
      "[0. 0. 0. ... 1. 1. 1.]\n",
      "398\n",
      "530\n",
      "18\n",
      "1976\n",
      "[0. 0. 0. ... 0. 0. 0.]\n",
      "[0. 0. 0. ... 1. 1. 1.]\n",
      "532\n",
      "396\n",
      "79\n",
      "1915\n",
      "[0. 0. 0. ... 0. 0. 0.]\n",
      "[0. 0. 0. ... 1. 1. 1.]\n",
      "642\n",
      "286\n",
      "290\n",
      "1704\n",
      "[0. 0. 0. ... 0. 0. 0.]\n",
      "[1. 1. 1. ... 1. 1. 1.]\n",
      "777\n",
      "151\n",
      "1030\n",
      "964\n",
      "[0. 0. 0. ... 0. 0. 0.]\n",
      "[1. 1. 1. ... 1. 1. 1.]\n",
      "862\n",
      "66\n",
      "1473\n",
      "521\n"
     ]
    },
    {
     "name": "stderr",
     "output_type": "stream",
     "text": [
      "/Users/oscarkeunen/Documents/1. TU Delft/1. Msc - Watermanagement/Afstuderen/satellite-cookbook-master/NSIDC-AMSRE/functions_pmrs.py:55: SettingWithCopyWarning: \n",
      "A value is trying to be set on a copy of a slice from a DataFrame\n",
      "\n",
      "See the caveats in the documentation: http://pandas.pydata.org/pandas-docs/stable/user_guide/indexing.html#returning-a-view-versus-a-copy\n",
      "  df[n][df[n]<0] = df[n].fillna(method='bfill',inplace=True)\n"
     ]
    },
    {
     "name": "stdout",
     "output_type": "stream",
     "text": [
      "[0. 0. 0. ... 0. 0. 0.]\n",
      "[0. 0. 0. ... 0. 1. 1.]\n",
      "400\n",
      "528\n",
      "20\n",
      "1974\n",
      "[0. 0. 0. ... 0. 0. 0.]\n",
      "[0. 0. 0. ... 1. 1. 1.]\n",
      "530\n",
      "398\n",
      "83\n",
      "1911\n",
      "[0. 0. 0. ... 0. 0. 0.]\n",
      "[0. 0. 0. ... 1. 1. 1.]\n",
      "648\n",
      "280\n",
      "301\n",
      "1693\n",
      "[0. 0. 0. ... 0. 0. 0.]\n",
      "[1. 1. 1. ... 1. 1. 1.]\n",
      "778\n",
      "150\n",
      "1065\n",
      "929\n",
      "[0. 0. 0. ... 0. 0. 0.]\n",
      "[1. 1. 1. ... 1. 1. 1.]\n",
      "867\n",
      "61\n",
      "1538\n",
      "456\n"
     ]
    },
    {
     "name": "stderr",
     "output_type": "stream",
     "text": [
      "/Users/oscarkeunen/Documents/1. TU Delft/1. Msc - Watermanagement/Afstuderen/satellite-cookbook-master/NSIDC-AMSRE/functions_pmrs.py:55: SettingWithCopyWarning: \n",
      "A value is trying to be set on a copy of a slice from a DataFrame\n",
      "\n",
      "See the caveats in the documentation: http://pandas.pydata.org/pandas-docs/stable/user_guide/indexing.html#returning-a-view-versus-a-copy\n",
      "  df[n][df[n]<0] = df[n].fillna(method='bfill',inplace=True)\n"
     ]
    },
    {
     "name": "stdout",
     "output_type": "stream",
     "text": [
      "[0. 0. 0. ... 0. 0. 0.]\n",
      "[0. 0. 0. ... 0. 0. 1.]\n",
      "395\n",
      "533\n",
      "19\n",
      "1975\n",
      "[0. 0. 0. ... 0. 0. 0.]\n",
      "[0. 0. 0. ... 0. 1. 1.]\n",
      "534\n",
      "394\n",
      "88\n",
      "1906\n",
      "[0. 0. 0. ... 0. 0. 0.]\n",
      "[0. 0. 0. ... 1. 1. 1.]\n",
      "656\n",
      "272\n",
      "311\n",
      "1683\n",
      "[0. 0. 0. ... 0. 0. 0.]\n",
      "[1. 1. 1. ... 1. 1. 1.]\n",
      "792\n",
      "136\n",
      "1130\n",
      "864\n",
      "[0. 0. 0. ... 0. 0. 0.]\n",
      "[1. 1. 1. ... 1. 1. 1.]\n",
      "862\n",
      "66\n",
      "1567\n",
      "427\n"
     ]
    },
    {
     "name": "stderr",
     "output_type": "stream",
     "text": [
      "/Users/oscarkeunen/Documents/1. TU Delft/1. Msc - Watermanagement/Afstuderen/satellite-cookbook-master/NSIDC-AMSRE/functions_pmrs.py:55: SettingWithCopyWarning: \n",
      "A value is trying to be set on a copy of a slice from a DataFrame\n",
      "\n",
      "See the caveats in the documentation: http://pandas.pydata.org/pandas-docs/stable/user_guide/indexing.html#returning-a-view-versus-a-copy\n",
      "  df[n][df[n]<0] = df[n].fillna(method='bfill',inplace=True)\n"
     ]
    },
    {
     "name": "stdout",
     "output_type": "stream",
     "text": [
      "[0. 0. 0. ... 0. 0. 0.]\n",
      "[0. 0. 0. ... 0. 0. 0.]\n",
      "391\n",
      "537\n",
      "22\n",
      "1972\n",
      "[0. 0. 0. ... 0. 0. 0.]\n",
      "[0. 0. 0. ... 0. 0. 1.]\n",
      "534\n",
      "394\n",
      "93\n",
      "1901\n",
      "[0. 0. 0. ... 0. 0. 0.]\n",
      "[0. 0. 0. ... 0. 1. 1.]\n",
      "658\n",
      "270\n",
      "318\n",
      "1676\n",
      "[0. 0. 0. ... 0. 0. 0.]\n",
      "[1. 1. 1. ... 1. 1. 1.]\n",
      "797\n",
      "131\n",
      "1160\n",
      "834\n",
      "[0. 0. 0. ... 0. 0. 0.]\n",
      "[1. 1. 1. ... 1. 1. 1.]\n",
      "859\n",
      "69\n",
      "1573\n",
      "421\n"
     ]
    },
    {
     "name": "stderr",
     "output_type": "stream",
     "text": [
      "/Users/oscarkeunen/Documents/1. TU Delft/1. Msc - Watermanagement/Afstuderen/satellite-cookbook-master/NSIDC-AMSRE/functions_pmrs.py:55: SettingWithCopyWarning: \n",
      "A value is trying to be set on a copy of a slice from a DataFrame\n",
      "\n",
      "See the caveats in the documentation: http://pandas.pydata.org/pandas-docs/stable/user_guide/indexing.html#returning-a-view-versus-a-copy\n",
      "  df[n][df[n]<0] = df[n].fillna(method='bfill',inplace=True)\n"
     ]
    },
    {
     "name": "stdout",
     "output_type": "stream",
     "text": [
      "[0. 0. 0. ... 0. 0. 0.]\n",
      "[0. 0. 0. ... 0. 0. 0.]\n",
      "387\n",
      "541\n",
      "28\n",
      "1966\n",
      "[0. 0. 0. ... 0. 0. 0.]\n",
      "[0. 0. 0. ... 0. 0. 0.]\n",
      "530\n",
      "398\n",
      "96\n",
      "1898\n",
      "[0. 0. 0. ... 0. 0. 0.]\n",
      "[0. 0. 0. ... 0. 0. 1.]\n",
      "665\n",
      "263\n",
      "319\n",
      "1675\n",
      "[0. 0. 0. ... 0. 0. 0.]\n",
      "[1. 1. 1. ... 1. 1. 1.]\n",
      "800\n",
      "128\n",
      "1156\n",
      "838\n",
      "[0. 0. 0. ... 0. 0. 0.]\n",
      "[1. 1. 1. ... 1. 1. 1.]\n",
      "857\n",
      "71\n",
      "1582\n",
      "412\n"
     ]
    },
    {
     "name": "stderr",
     "output_type": "stream",
     "text": [
      "/Users/oscarkeunen/Documents/1. TU Delft/1. Msc - Watermanagement/Afstuderen/satellite-cookbook-master/NSIDC-AMSRE/functions_pmrs.py:55: SettingWithCopyWarning: \n",
      "A value is trying to be set on a copy of a slice from a DataFrame\n",
      "\n",
      "See the caveats in the documentation: http://pandas.pydata.org/pandas-docs/stable/user_guide/indexing.html#returning-a-view-versus-a-copy\n",
      "  df[n][df[n]<0] = df[n].fillna(method='bfill',inplace=True)\n"
     ]
    },
    {
     "name": "stdout",
     "output_type": "stream",
     "text": [
      "[0. 0. 0. ... 0. 0. 0.]\n",
      "[0. 0. 0. ... 0. 0. 0.]\n",
      "377\n",
      "551\n",
      "26\n",
      "1968\n",
      "[0. 0. 0. ... 0. 0. 0.]\n",
      "[0. 0. 0. ... 0. 0. 0.]\n",
      "539\n",
      "389\n",
      "108\n",
      "1886\n",
      "[0. 0. 0. ... 0. 0. 0.]\n",
      "[0. 0. 0. ... 0. 0. 0.]\n",
      "668\n",
      "260\n",
      "334\n",
      "1660\n",
      "[0. 0. 0. ... 0. 0. 0.]\n",
      "[1. 1. 1. ... 1. 1. 1.]\n",
      "801\n",
      "127\n",
      "1165\n",
      "829\n",
      "[0. 0. 0. ... 0. 0. 0.]\n",
      "[1. 1. 1. ... 1. 1. 1.]\n",
      "860\n",
      "68\n",
      "1611\n",
      "383\n"
     ]
    },
    {
     "name": "stderr",
     "output_type": "stream",
     "text": [
      "/Users/oscarkeunen/Documents/1. TU Delft/1. Msc - Watermanagement/Afstuderen/satellite-cookbook-master/NSIDC-AMSRE/functions_pmrs.py:55: SettingWithCopyWarning: \n",
      "A value is trying to be set on a copy of a slice from a DataFrame\n",
      "\n",
      "See the caveats in the documentation: http://pandas.pydata.org/pandas-docs/stable/user_guide/indexing.html#returning-a-view-versus-a-copy\n",
      "  df[n][df[n]<0] = df[n].fillna(method='bfill',inplace=True)\n"
     ]
    },
    {
     "name": "stdout",
     "output_type": "stream",
     "text": [
      "[0. 0. 0. ... 0. 0. 0.]\n",
      "[0. 0. 0. ... 0. 0. 0.]\n",
      "375\n",
      "553\n",
      "28\n",
      "1966\n",
      "[0. 0. 0. ... 0. 0. 0.]\n",
      "[0. 0. 0. ... 0. 0. 0.]\n",
      "535\n",
      "393\n",
      "120\n",
      "1874\n",
      "[0. 0. 0. ... 0. 0. 0.]\n",
      "[0. 0. 0. ... 0. 0. 0.]\n",
      "665\n",
      "263\n",
      "337\n",
      "1657\n",
      "[0. 0. 0. ... 0. 0. 0.]\n",
      "[1. 1. 1. ... 1. 1. 1.]\n",
      "809\n",
      "119\n",
      "1247\n",
      "747\n",
      "[0. 0. 0. ... 0. 0. 0.]\n",
      "[1. 1. 1. ... 1. 1. 1.]\n",
      "861\n",
      "67\n",
      "1612\n",
      "382\n"
     ]
    },
    {
     "name": "stderr",
     "output_type": "stream",
     "text": [
      "/Users/oscarkeunen/Documents/1. TU Delft/1. Msc - Watermanagement/Afstuderen/satellite-cookbook-master/NSIDC-AMSRE/functions_pmrs.py:55: SettingWithCopyWarning: \n",
      "A value is trying to be set on a copy of a slice from a DataFrame\n",
      "\n",
      "See the caveats in the documentation: http://pandas.pydata.org/pandas-docs/stable/user_guide/indexing.html#returning-a-view-versus-a-copy\n",
      "  df[n][df[n]<0] = df[n].fillna(method='bfill',inplace=True)\n"
     ]
    },
    {
     "name": "stdout",
     "output_type": "stream",
     "text": [
      "[0. 0. 0. ... 0. 0. 0.]\n",
      "[0. 0. 0. ... 0. 0. 0.]\n",
      "370\n",
      "558\n",
      "30\n",
      "1964\n",
      "[0. 0. 0. ... 0. 0. 0.]\n",
      "[0. 0. 0. ... 0. 0. 0.]\n",
      "531\n",
      "397\n",
      "134\n",
      "1860\n",
      "[0. 0. 0. ... 0. 0. 0.]\n",
      "[0. 0. 0. ... 0. 0. 0.]\n",
      "664\n",
      "264\n",
      "350\n",
      "1644\n",
      "[0. 0. 0. ... 0. 0. 0.]\n",
      "[1. 1. 1. ... 0. 1. 1.]\n",
      "827\n",
      "101\n",
      "1312\n",
      "682\n",
      "[0. 0. 0. ... 0. 0. 0.]\n",
      "[1. 1. 1. ... 1. 1. 1.]\n",
      "868\n",
      "60\n",
      "1650\n",
      "344\n"
     ]
    },
    {
     "name": "stderr",
     "output_type": "stream",
     "text": [
      "<ipython-input-366-fd014e5dab11>:33: MatplotlibDeprecationWarning: Adding an axes using the same arguments as a previous axes currently reuses the earlier instance.  In a future version, a new instance will always be created and returned.  Meanwhile, this warning can be suppressed, and the future behavior ensured, by passing a unique label to each axes instance.\n",
      "  plt.subplot(1,2,2)\n"
     ]
    },
    {
     "data": {
      "image/png": "[encoded data removed]",
      "text/plain": [
       "<Figure size 1080x1080 with 1 Axes>"
      ]
     },
     "metadata": {},
     "output_type": "display_data"
    }
   ],
   "source": [
    "# Run the HOC figures over all the shift positions\n",
    "HOC =np.zeros((20,5,4))\n",
    "threshold =1.0\n",
    "\n",
    "for i, n in enumerate(range(0, 20, 1)):\n",
    "    shift = n\n",
    "    df = loadCM(points_xy,ds, rollingvalue)\n",
    "    df = applyshift(df,rollingvalue,shift,plot)\n",
    "    fits,res = calculateQR(df,selection,plot,shift)\n",
    "    pred = probability(df, fits, plot, shift,location)\n",
    "    obs = df.POI4.values.copy()\n",
    "    \n",
    "\n",
    "    for j in range (5):\n",
    "        output = calc_performance_scores(obs,pred[j],threshold)\n",
    "        pred = probability(df, fits, plot, shift,location)\n",
    "        obs = df.POI4.values.copy()\n",
    "        HOC [i, j]= output\n",
    "# HOC\n",
    "\n",
    "plt.figure(figsize=(15,15))\n",
    "for n in range (20):\n",
    "\n",
    "    plt.plot(HOC[n,:,2],HOC[n,:,0],'-o') #color ='b')\n",
    "    plt.xlim([-0.1,1.05])\n",
    "    plt.ylim([-0.1,1.05])\n",
    "    plt.title(f'HOC figure')\n",
    "    plt.ylabel('Hitrate [-]')\n",
    "    plt.xlabel('False Alarm Rate [-]')\n",
    "    plt.gca().set_aspect('equal', adjustable='box')\n",
    "    plt.draw()\n",
    "\n",
    "    plt.subplot(1,2,2)\n",
    "    plt.plot(HOC[n,:,1],HOC[n,:,0],'-o')#'-o',color ='r')\n",
    "    plt.xlim([-0.1,1.05])\n",
    "    plt.ylim([-0.1,1.05])\n",
    "    plt.title(f'HOC figure  ')\n",
    "    plt.ylabel('Hitrate [-]')\n",
    "    plt.xlabel('Prob. of False Detection [-]')\n",
    "    plt.gca().set_aspect('equal', adjustable='box')\n",
    "    plt.draw()"
   ]
  },
  {
   "cell_type": "code",
   "execution_count": 367,
   "metadata": {},
   "outputs": [
    {
     "name": "stderr",
     "output_type": "stream",
     "text": [
      "<ipython-input-367-51427633ffcc>:4: MatplotlibDeprecationWarning: Adding an axes using the same arguments as a previous axes currently reuses the earlier instance.  In a future version, a new instance will always be created and returned.  Meanwhile, this warning can be suppressed, and the future behavior ensured, by passing a unique label to each axes instance.\n",
      "  plt.subplot(1,2,1)\n",
      "<ipython-input-367-51427633ffcc>:15: MatplotlibDeprecationWarning: Adding an axes using the same arguments as a previous axes currently reuses the earlier instance.  In a future version, a new instance will always be created and returned.  Meanwhile, this warning can be suppressed, and the future behavior ensured, by passing a unique label to each axes instance.\n",
      "  plt.subplot(1,2,2)\n"
     ]
    },
    {
     "data": {
      "image/png": "[encoded data removed]",
      "text/plain": [
       "<Figure size 1080x1080 with 2 Axes>"
      ]
     },
     "metadata": {},
     "output_type": "display_data"
    }
   ],
   "source": [
    "plt.figure(figsize=(15,15))\n",
    "for n in range (14):\n",
    "\n",
    "    plt.subplot(1,2,1)\n",
    "    plt.plot(HOC[n,:,2],HOC[n,:,0],'-o',label=f'shift {n}') #color ='b')\n",
    "    plt.xlim([-0.1,1.05])\n",
    "    plt.ylim([-0.1,1.05])\n",
    "    plt.title(f'HOC figure over the shift [0-20 days]')\n",
    "    plt.ylabel('Hitrate [-]')\n",
    "    plt.xlabel('False Alarm Rate [-]')\n",
    "    plt.legend()\n",
    "    plt.gca().set_aspect('equal', adjustable='box')\n",
    "    plt.draw()\n",
    "\n",
    "    plt.subplot(1,2,2)\n",
    "    plt.plot(HOC[n,:,1],HOC[n,:,0],'-o',label=f'shift {n}')#'-o',color ='r')\n",
    "    plt.xlim([-0.1,1.05])\n",
    "    plt.ylim([-0.1,1.05])\n",
    "    plt.title(f'HOC figure over the shift [0-20 days]  ')\n",
    "    plt.ylabel('Hitrate [-]')\n",
    "    plt.xlabel('Prob. of False Detection [-]')\n",
    "    plt.legend()\n",
    "    plt.gca().set_aspect('equal', adjustable='box')\n",
    "    plt.draw()\n",
    "        \n",
    "plt.savefig((f'/Users/oscarkeunen/Documents/1. TU Delft/1. Msc - Watermanagement/Afstuderen/satellite-cookbook-master/NSIDC-AMSRE/figures_python/HOC_Shift{location}.png'),dpi=600)\n"
   ]
  },
  {
   "cell_type": "code",
   "execution_count": 378,
   "metadata": {},
   "outputs": [
    {
     "name": "stderr",
     "output_type": "stream",
     "text": [
      "/Users/oscarkeunen/Documents/1. TU Delft/1. Msc - Watermanagement/Afstuderen/satellite-cookbook-master/NSIDC-AMSRE/functions_pmrs.py:55: SettingWithCopyWarning: \n",
      "A value is trying to be set on a copy of a slice from a DataFrame\n",
      "\n",
      "See the caveats in the documentation: http://pandas.pydata.org/pandas-docs/stable/user_guide/indexing.html#returning-a-view-versus-a-copy\n",
      "  df[n][df[n]<0] = df[n].fillna(method='bfill',inplace=True)\n"
     ]
    },
    {
     "name": "stdout",
     "output_type": "stream",
     "text": [
      "[1. 1. 1. ... 1. 1. 1.]\n",
      "[1. 1. 1. ... 1. 1. 1.]\n",
      "1787\n",
      "1121\n",
      "2\n",
      "12\n",
      "[1. 1. 1. ... 1. 1. 1.]\n",
      "[1. 1. 1. ... 1. 1. 1.]\n",
      "2359\n",
      "549\n",
      "3\n",
      "11\n",
      "[1. 1. 1. ... 1. 1. 1.]\n",
      "[1. 1. 1. ... 1. 1. 1.]\n",
      "2775\n",
      "133\n",
      "7\n",
      "7\n",
      "[1. 1. 1. ... 1. 1. 1.]\n",
      "[1. 1. 1. ... 1. 1. 1.]\n",
      "2893\n",
      "15\n",
      "7\n",
      "7\n",
      "[1. 1. 1. ... 1. 1. 1.]\n",
      "[1. 1. 1. ... 1. 1. 1.]\n",
      "2895\n",
      "13\n",
      "8\n",
      "6\n"
     ]
    },
    {
     "name": "stderr",
     "output_type": "stream",
     "text": [
      "/Users/oscarkeunen/Documents/1. TU Delft/1. Msc - Watermanagement/Afstuderen/satellite-cookbook-master/NSIDC-AMSRE/functions_pmrs.py:55: SettingWithCopyWarning: \n",
      "A value is trying to be set on a copy of a slice from a DataFrame\n",
      "\n",
      "See the caveats in the documentation: http://pandas.pydata.org/pandas-docs/stable/user_guide/indexing.html#returning-a-view-versus-a-copy\n",
      "  df[n][df[n]<0] = df[n].fillna(method='bfill',inplace=True)\n"
     ]
    },
    {
     "name": "stdout",
     "output_type": "stream",
     "text": [
      "[1. 1. 1. ... 1. 1. 1.]\n",
      "[0. 0. 0. ... 1. 1. 1.]\n",
      "773\n",
      "1911\n",
      "15\n",
      "223\n",
      "[1. 1. 1. ... 1. 1. 1.]\n",
      "[0. 0. 0. ... 1. 1. 1.]\n",
      "941\n",
      "1743\n",
      "38\n",
      "200\n",
      "[1. 1. 1. ... 1. 1. 1.]\n",
      "[1. 1. 1. ... 1. 1. 1.]\n",
      "1673\n",
      "1011\n",
      "76\n",
      "162\n",
      "[1. 1. 1. ... 1. 1. 1.]\n",
      "[1. 1. 1. ... 1. 1. 1.]\n",
      "2450\n",
      "234\n",
      "173\n",
      "65\n",
      "[1. 1. 1. ... 1. 1. 1.]\n",
      "[1. 1. 1. ... 1. 1. 1.]\n",
      "2616\n",
      "68\n",
      "206\n",
      "32\n"
     ]
    },
    {
     "name": "stderr",
     "output_type": "stream",
     "text": [
      "/Users/oscarkeunen/Documents/1. TU Delft/1. Msc - Watermanagement/Afstuderen/satellite-cookbook-master/NSIDC-AMSRE/functions_pmrs.py:55: SettingWithCopyWarning: \n",
      "A value is trying to be set on a copy of a slice from a DataFrame\n",
      "\n",
      "See the caveats in the documentation: http://pandas.pydata.org/pandas-docs/stable/user_guide/indexing.html#returning-a-view-versus-a-copy\n",
      "  df[n][df[n]<0] = df[n].fillna(method='bfill',inplace=True)\n"
     ]
    },
    {
     "name": "stdout",
     "output_type": "stream",
     "text": [
      "[0. 0. 0. ... 0. 0. 0.]\n",
      "[0. 0. 0. ... 1. 1. 1.]\n",
      "384\n",
      "544\n",
      "27\n",
      "1967\n",
      "[0. 0. 0. ... 0. 0. 0.]\n",
      "[0. 0. 0. ... 1. 1. 1.]\n",
      "520\n",
      "408\n",
      "75\n",
      "1919\n",
      "[0. 0. 0. ... 0. 0. 0.]\n",
      "[0. 0. 0. ... 1. 1. 1.]\n",
      "638\n",
      "290\n",
      "254\n",
      "1740\n",
      "[0. 0. 0. ... 0. 0. 0.]\n",
      "[1. 1. 1. ... 1. 1. 1.]\n",
      "749\n",
      "179\n",
      "736\n",
      "1258\n",
      "[0. 0. 0. ... 0. 0. 0.]\n",
      "[1. 1. 1. ... 1. 1. 1.]\n",
      "846\n",
      "82\n",
      "1373\n",
      "621\n"
     ]
    },
    {
     "name": "stderr",
     "output_type": "stream",
     "text": [
      "/Users/oscarkeunen/Documents/1. TU Delft/1. Msc - Watermanagement/Afstuderen/satellite-cookbook-master/NSIDC-AMSRE/functions_pmrs.py:55: SettingWithCopyWarning: \n",
      "A value is trying to be set on a copy of a slice from a DataFrame\n",
      "\n",
      "See the caveats in the documentation: http://pandas.pydata.org/pandas-docs/stable/user_guide/indexing.html#returning-a-view-versus-a-copy\n",
      "  df[n][df[n]<0] = df[n].fillna(method='bfill',inplace=True)\n"
     ]
    },
    {
     "name": "stdout",
     "output_type": "stream",
     "text": [
      "[0. 0. 0. ... 0. 0. 0.]\n",
      "[0. 0. 0. ... 1. 1. 1.]\n",
      "117\n",
      "307\n",
      "5\n",
      "2493\n",
      "[0. 0. 0. ... 0. 0. 0.]\n",
      "[0. 0. 0. ... 1. 1. 1.]\n",
      "220\n",
      "204\n",
      "24\n",
      "2474\n",
      "[0. 0. 0. ... 0. 0. 0.]\n",
      "[0. 0. 0. ... 1. 1. 1.]\n",
      "359\n",
      "65\n",
      "219\n",
      "2279\n",
      "[0. 0. 0. ... 0. 0. 0.]\n",
      "[0. 0. 0. ... 1. 1. 1.]\n",
      "383\n",
      "41\n",
      "474\n",
      "2024\n",
      "[0. 0. 0. ... 0. 0. 0.]\n",
      "[0. 0. 0. ... 1. 1. 1.]\n",
      "401\n",
      "23\n",
      "639\n",
      "1859\n"
     ]
    },
    {
     "name": "stderr",
     "output_type": "stream",
     "text": [
      "/Users/oscarkeunen/Documents/1. TU Delft/1. Msc - Watermanagement/Afstuderen/satellite-cookbook-master/NSIDC-AMSRE/functions_pmrs.py:55: SettingWithCopyWarning: \n",
      "A value is trying to be set on a copy of a slice from a DataFrame\n",
      "\n",
      "See the caveats in the documentation: http://pandas.pydata.org/pandas-docs/stable/user_guide/indexing.html#returning-a-view-versus-a-copy\n",
      "  df[n][df[n]<0] = df[n].fillna(method='bfill',inplace=True)\n"
     ]
    },
    {
     "name": "stdout",
     "output_type": "stream",
     "text": [
      "[0. 0. 0. ... 0. 0. 0.]\n",
      "[0. 0. 0. ... 0. 0. 0.]\n",
      "11\n",
      "246\n",
      "0\n",
      "2665\n",
      "[0. 0. 0. ... 0. 0. 0.]\n",
      "[0. 0. 0. ... 1. 1. 1.]\n",
      "69\n",
      "188\n",
      "5\n",
      "2660\n",
      "[0. 0. 0. ... 0. 0. 0.]\n",
      "[0. 0. 0. ... 1. 1. 1.]\n",
      "198\n",
      "59\n",
      "77\n",
      "2588\n",
      "[0. 0. 0. ... 0. 0. 0.]\n",
      "[0. 0. 0. ... 1. 1. 1.]\n",
      "248\n",
      "9\n",
      "319\n",
      "2346\n",
      "[0. 0. 0. ... 0. 0. 0.]\n",
      "[0. 0. 0. ... 1. 1. 1.]\n",
      "249\n",
      "8\n",
      "472\n",
      "2193\n"
     ]
    },
    {
     "name": "stderr",
     "output_type": "stream",
     "text": [
      "<ipython-input-378-cf496bff9138>:25: MatplotlibDeprecationWarning: Adding an axes using the same arguments as a previous axes currently reuses the earlier instance.  In a future version, a new instance will always be created and returned.  Meanwhile, this warning can be suppressed, and the future behavior ensured, by passing a unique label to each axes instance.\n",
      "  plt.subplot(1,2,1)\n",
      "<ipython-input-378-cf496bff9138>:36: MatplotlibDeprecationWarning: Adding an axes using the same arguments as a previous axes currently reuses the earlier instance.  In a future version, a new instance will always be created and returned.  Meanwhile, this warning can be suppressed, and the future behavior ensured, by passing a unique label to each axes instance.\n",
      "  plt.subplot(1,2,2)\n"
     ]
    },
    {
     "data": {
      "image/png": "[encoded data removed]",
      "text/plain": [
       "<Figure size 1080x1080 with 2 Axes>"
      ]
     },
     "metadata": {},
     "output_type": "display_data"
    }
   ],
   "source": [
    "# Run the HOC figures over the threshold bounds\n",
    "HOC =np.zeros((5,5,4))\n",
    "shift =7\n",
    "for i, n in enumerate([ 0.98, 0.99, 1, 1.01,1.02]):#,1.03,1.04,1.05]):#, 1.06,1.07, 1.08, 1.09 ,1.10, 1.11,1.12,1.13,1.14]):\n",
    "    threshold = n\n",
    "    df = loadCM(points_xy,ds, rollingvalue)\n",
    "    df = applyshift(df,rollingvalue,shift,plot)\n",
    "    fits,res = calculateQR(df,selection,plot,shift)\n",
    "    pred = probability(df, fits, plot, shift, location)\n",
    "    obs = df.POI4.values.copy()\n",
    "    \n",
    "    for j in range (5):\n",
    "        output = calc_performance_scores(obs,pred[j],threshold)\n",
    "        pred = probability(df, fits, plot, shift,location)\n",
    "        obs = df.POI4.values.copy()\n",
    "        HOC [i, j]= output\n",
    "#         output =calc_performance_scores(obs,pred[j],threshold)\n",
    "# HOC\n",
    "\n",
    "\n",
    "plt.figure(figsize=(15,15))\n",
    "\n",
    "for n in range (5):\n",
    "\n",
    "    plt.subplot(1,2,1)\n",
    "    plt.plot(HOC[n,:,2],HOC[n,:,0],'-o') #color ='b')\n",
    "    plt.xlim([-0.1,1.05])\n",
    "    plt.ylim([-0.1,1.05])\n",
    "    plt.title(f'HOC figure over the the thresholds [1.01-1.14]')\n",
    "    plt.ylabel('Hitrate [-]')\n",
    "    plt.xlabel('False Alarm Rate [-]')\n",
    "    plt.gca().set_aspect('equal', adjustable='box')\n",
    "    plt.draw()\n",
    "\n",
    "\n",
    "    plt.subplot(1,2,2)\n",
    "    plt.plot(HOC[n,:,1],HOC[n,:,0],'-o')#'-o',color ='r')\n",
    "    plt.xlim([-0.1,1.05])\n",
    "    plt.ylim([-0.1,1.05])\n",
    "    plt.title(f'HOC figure over the the thresholds [1.01-1.14] ')\n",
    "    plt.ylabel('Hitrate [-]')\n",
    "    plt.xlabel('Prob. of False Detection [-]')\n",
    "    plt.gca().set_aspect('equal', adjustable='box')\n",
    "    plt.draw()  "
   ]
  },
  {
   "cell_type": "code",
   "execution_count": null,
   "metadata": {},
   "outputs": [],
   "source": []
  },
  {
   "cell_type": "code",
   "execution_count": 384,
   "metadata": {},
   "outputs": [
    {
     "name": "stderr",
     "output_type": "stream",
     "text": [
      "<ipython-input-384-9dfb5fe6ad2a>:5: MatplotlibDeprecationWarning: Adding an axes using the same arguments as a previous axes currently reuses the earlier instance.  In a future version, a new instance will always be created and returned.  Meanwhile, this warning can be suppressed, and the future behavior ensured, by passing a unique label to each axes instance.\n",
      "  plt.subplot(1,2,1)\n",
      "<ipython-input-384-9dfb5fe6ad2a>:17: MatplotlibDeprecationWarning: Adding an axes using the same arguments as a previous axes currently reuses the earlier instance.  In a future version, a new instance will always be created and returned.  Meanwhile, this warning can be suppressed, and the future behavior ensured, by passing a unique label to each axes instance.\n",
      "  plt.subplot(1,2,2)\n"
     ]
    },
    {
     "data": {
      "image/png": "[encoded data removed]",
      "text/plain": [
       "<Figure size 1080x1080 with 2 Axes>"
      ]
     },
     "metadata": {},
     "output_type": "display_data"
    }
   ],
   "source": [
    "plt.figure(figsize=(15,15))\n",
    "\n",
    "for n in range (5):\n",
    "\n",
    "    plt.subplot(1,2,1)\n",
    "    plt.plot(HOC[n,:,2],HOC[n,:,0],'-o',label=f'threshold {0.98+n*0.01}') #color ='b')\n",
    "    plt.xlim([-0.1,1.05])\n",
    "    plt.ylim([-0.1,1.05])\n",
    "    plt.title(f'HOC figure over the the thresholds [0.98-1.02]')\n",
    "    plt.ylabel('Hitrate [-]')\n",
    "    plt.xlabel('False Alarm Rate [-]')\n",
    "    plt.legend()\n",
    "    plt.gca().set_aspect('equal', adjustable='box')\n",
    "    plt.draw()\n",
    "\n",
    "\n",
    "    plt.subplot(1,2,2)\n",
    "    plt.plot(HOC[n,:,1],HOC[n,:,0],'-o',label=f'threshold {0.98+n*0.01}')#'-o',color ='r')\n",
    "    plt.xlim([-0.1,1.05])\n",
    "    plt.ylim([-0.1,1.05])\n",
    "    plt.title(f'HOC figure over the the thresholds [0.98-1.02] ')\n",
    "    plt.ylabel('Hitrate [-]')\n",
    "    plt.xlabel('Prob. of False Detection [-]')\n",
    "    plt.gca().set_aspect('equal', adjustable='box')\n",
    "    plt.legend()\n",
    "    plt.draw()  \n",
    "    plt.savefig((f'/Users/oscarkeunen/Documents/1. TU Delft/1. Msc - Watermanagement/Afstuderen/satellite-cookbook-master/NSIDC-AMSRE/figures_python/HOC_threshold{location}.png'),dpi=600)\n"
   ]
  },
  {
   "cell_type": "code",
   "execution_count": null,
   "metadata": {
    "collapsed": true
   },
   "outputs": [],
   "source": []
  },
  {
   "cell_type": "code",
   "execution_count": null,
   "metadata": {},
   "outputs": [],
   "source": []
  },
  {
   "cell_type": "code",
   "execution_count": null,
   "metadata": {},
   "outputs": [],
   "source": []
  },
  {
   "cell_type": "code",
   "execution_count": null,
   "metadata": {},
   "outputs": [],
   "source": []
  }
 ],
 "metadata": {
  "kernelspec": {
   "display_name": "Python 3",
   "language": "python",
   "name": "python3"
  },
  "language_info": {
   "codemirror_mode": {
    "name": "ipython",
    "version": 3
   },
   "file_extension": ".py",
   "mimetype": "text/x-python",
   "name": "python",
   "nbconvert_exporter": "python",
   "pygments_lexer": "ipython3",
   "version": "3.8.1"
  }
 },
 "nbformat": 4,
 "nbformat_minor": 4
}
