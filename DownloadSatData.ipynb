{
 "cells": [
  {
   "cell_type": "code",
   "execution_count": 3,
   "metadata": {},
   "outputs": [],
   "source": [
    "#1. IMPORTING PACKAGES AND LIBRARIES\n",
    "%matplotlib inline\n",
    "%load_ext autoreload\n",
    "%autoreload 2\n",
    "\n",
    "import os\n",
    "import cartopy\n",
    "import cartopy.crs as ccrs\n",
    "from cartopy.mpl.gridliner import LONGITUDE_FORMATTER, LATITUDE_FORMATTER\n",
    "from cartopy.io.img_tiles import OSM\n",
    "from cartopy.io.img_tiles import GoogleTiles as moa\n",
    "from cycler import cycler\n",
    "import scipy\n",
    "\n",
    "import glob\n",
    "import cartopy.feature as cfeature\n",
    "import matplotlib.pyplot as plt\n",
    "import matplotlib.patches as mpatches\n",
    "import xarray as xr\n",
    "import pyproj\n",
    "import osr\n",
    "import datetime\n",
    "import subprocess\n",
    "import shutil\n",
    "import numpy as np\n",
    "from ipywidgets import interact\n",
    "import pandas as pd\n",
    "import pickle\n",
    "from scipy.signal import savgol_filter\n",
    "import time\n",
    "\n",
    "\n",
    "# import our own small lib. I access this one through PyCharm\n",
    "import nsidc"
   ]
  },
  {
   "cell_type": "code",
   "execution_count": 9,
   "metadata": {},
   "outputs": [
    {
     "name": "stdout",
     "output_type": "stream",
     "text": [
      "----------------------------\n"
     ]
    }
   ],
   "source": [
    "\n",
    "freq = '36' # 36 GhZ following Brakenridge 2007 (WRR M/C ratio paper)\n",
    "res = '25'  # can also be 3.125,  12.5 or 25, although this depends on the chosen frequency as well\n",
    "# freq = '36' # 36 GhZ following Brakenridge 2007 (WRR M/C ratio paper)\n",
    "HV = 'V' # Horizontal or Vertical polarisation\n",
    "AD = 'A' # Ascending or descending, descending contains imagery during the day, probably showing more contrast\n",
    "bounds = [( -19., 20.),\n",
    "          (-11., 27.),\n",
    "         ]\n",
    "\n",
    "start_date = datetime.datetime(2002, 5, 29) # Start of the AMSR-E period\n",
    "# start_date = datetime.datetime(2004, 1, 1) # date after data recovery\n",
    "# end_date = datetime.datetime(2009, 12, 31)  # only a few days to make a demonstration\n",
    "end_date = datetime.datetime(2011, 5, 28)  # use this end date to cover the whole AMSR-E period.\n",
    "# end_date = datetime.datetime(2002, 1, 2)\n",
    "\n",
    "# url = nsidc.make_measures_url(start_date, res, freq, HV, AD) #Uncheck this line to obtain the download url. This can be used if th combination of parameters is not coresponding to a download file\n",
    "\n",
    "try:\n",
    "    credential_fn = os.path.abspath('../../nsidc_credentials.txt')\n",
    "    username, password = str(np.loadtxt(credential_fn, dtype=np.str)).split(',')\n",
    "except:\n",
    "    print('No credential file found, please put a txt file with <user>,<pass> in {:s}'.format(credential_fn))\n",
    "    \n",
    "username = 'okeunen'\n",
    "password = 'Orkeunen1'\n",
    "\n",
    "url, success = nsidc.download_measures(freq, res, HV, AD, start_date, username, password) #To check url and success of download -> 0 = succes\n",
    "fn_out_prefix = 'NSIDC_Test'\n",
    "\n",
    "NotImplementedError \n",
    "\n",
    "#download command\n",
    "# nsidc.download_measures_ts(freq, res, HV, AD, start_date, end_date, bounds, fn_out_prefix, username, password)\n",
    "url \n",
    "\n",
    "\n",
    "print('----------------------------')\n",
    "if success==0:\n",
    "    print('SUCCESSFULL DOWNLOAD')\n",
    "    print('----------------------------')\n",
    "    print('SETTINGS:'' Frequency:',freq,'GHz.', \n",
    "      ' Resolution:',res, 'km.',\n",
    "      ' Polarization:', HV,'.' \n",
    "      ' Ascending/descending:', AD)"
   ]
  },
  {
   "cell_type": "code",
   "execution_count": null,
   "metadata": {},
   "outputs": [],
   "source": [
    "# ds_36ghz_25km_V_A_2002 = xr.open_dataset('/Users/oscarkeunen/Documents/1. TU Delft/1. Msc - Watermanagement/Afstuderen/satellite-cookbook-master/NSIDC-AMSRE/Sat_Data/NSIDC_Test_2002.nc')\n",
    "# ds_36ghz_25km_V_A_2003 = xr.open_dataset('/Users/oscarkeunen/Documents/1. TU Delft/1. Msc - Watermanagement/Afstuderen/satellite-cookbook-master/NSIDC-AMSRE/Sat_Data/NSIDC_Test_2003.nc')\n",
    "# ds_36ghz_25km_V_A_2004 = xr.open_dataset('/Users/oscarkeunen/Documents/1. TU Delft/1. Msc - Watermanagement/Afstuderen/satellite-cookbook-master/NSIDC-AMSRE/Sat_Data/NSIDC_Test_2004.nc')\n",
    "# ds_36ghz_25km_V_A_2005 = xr.open_dataset('/Users/oscarkeunen/Documents/1. TU Delft/1. Msc - Watermanagement/Afstuderen/satellite-cookbook-master/NSIDC-AMSRE/Sat_Data/NSIDC_Test_2005.nc')\n",
    "# ds_36ghz_25km_V_A_2006 = xr.open_dataset('/Users/oscarkeunen/Documents/1. TU Delft/1. Msc - Watermanagement/Afstuderen/satellite-cookbook-master/NSIDC-AMSRE/Sat_Data/NSIDC_Test_2006.nc')\n",
    "# ds_36ghz_25km_V_A_2007 = xr.open_dataset('/Users/oscarkeunen/Documents/1. TU Delft/1. Msc - Watermanagement/Afstuderen/satellite-cookbook-master/NSIDC-AMSRE/Sat_Data/NSIDC_Test_2007.nc')\n",
    "# ds_36ghz_25km_V_A_2008 = xr.open_dataset('/Users/oscarkeunen/Documents/1. TU Delft/1. Msc - Watermanagement/Afstuderen/satellite-cookbook-master/NSIDC-AMSRE/Sat_Data/NSIDC_Test_2008.nc')\n",
    "# ds_36ghz_25km_V_A_2009 = xr.open_dataset('/Users/oscarkeunen/Documents/1. TU Delft/1. Msc - Watermanagement/Afstuderen/satellite-cookbook-master/NSIDC-AMSRE/Sat_Data/NSIDC_Test_2009.nc')\n",
    "# ds_36ghz_25km_V_A_2010 = xr.open_dataset('/Users/oscarkeunen/Documents/1. TU Delft/1. Msc - Watermanagement/Afstuderen/satellite-cookbook-master/NSIDC-AMSRE/Sat_Data/NSIDC_Test_20010.nc')\n",
    "# ds_36ghz_25km_V_A_2011 = xr.open_dataset('/Users/oscarkeunen/Documents/1. TU Delft/1. Msc - Watermanagement/Afstuderen/satellite-cookbook-master/NSIDC-AMSRE/Sat_Data/NSIDC_Test_20011.nc')\n",
    "\n",
    "# ds_36ghz_3km_V_A_2002 = xr.open_dataset('C:\\\\Users\\\\908138\\\\githubdata\\\\37ghz_25km_H_A\\\\NSIDC-0630-EASE2_T25km-AQUA-AMSRE-36H-A_2010.nc')\n",
    "# ds_36ghz_3km_V_A_2003 = xr.open_dataset('C:\\\\Users\\\\908138\\\\githubdata\\\\37ghz_25km_H_A\\\\NSIDC-0630-EASE2_T25km-AQUA-AMSRE-36H-A_2010.nc')\n",
    "# ds_36ghz_3km_V_A_2004 = xr.open_dataset('C:\\\\Users\\\\908138\\\\githubdata\\\\37ghz_25km_H_A\\\\NSIDC-0630-EASE2_T25km-AQUA-AMSRE-36H-A_2010.nc')\n",
    "# ds_36ghz_3km_V_A_2005 = xr.open_dataset('C:\\\\Users\\\\908138\\\\githubdata\\\\37ghz_25km_H_A\\\\NSIDC-0630-EASE2_T25km-AQUA-AMSRE-36H-A_2010.nc')\n",
    "# ds_36ghz_3km_V_A_2006 = xr.open_dataset('C:\\\\Users\\\\908138\\\\githubdata\\\\37ghz_25km_H_A\\\\NSIDC-0630-EASE2_T25km-AQUA-AMSRE-36H-A_2010.nc')\n",
    "# ds_36ghz_3km_V_A_2007 = xr.open_dataset('C:\\\\Users\\\\908138\\\\githubdata\\\\37ghz_25km_H_A\\\\NSIDC-0630-EASE2_T25km-AQUA-AMSRE-36H-A_2010.nc')\n",
    "# ds_36ghz_3km_V_A_2008 = xr.open_dataset('C:\\\\Users\\\\908138\\\\githubdata\\\\37ghz_25km_H_A\\\\NSIDC-0630-EASE2_T25km-AQUA-AMSRE-36H-A_2010.nc')\n",
    "# ds_36ghz_3km_V_A_2009 = xr.open_dataset('C:\\\\Users\\\\908138\\\\githubdata\\\\37ghz_25km_H_A\\\\NSIDC-0630-EASE2_T25km-AQUA-AMSRE-36H-A_2010.nc')\n",
    "# ds_36ghz_3km_V_A_2010 = xr.open_dataset('C:\\\\Users\\\\908138\\\\githubdata\\\\37ghz_25km_H_A\\\\NSIDC-0630-EASE2_T25km-AQUA-AMSRE-36H-A_2010.nc')\n",
    "# ds_36ghz_3km_V_A_2011 = xr.open_dataset('C:\\\\Users\\\\908138\\\\githubdata\\\\37ghz_25km_H_A\\\\NSIDC-0630-EASE2_T25km-AQUA-AMSRE-36H-A_2010.nc')"
   ]
  },
  {
   "cell_type": "code",
   "execution_count": 10,
   "metadata": {},
   "outputs": [
    {
     "data": {
      "text/plain": [
       "'wget --http-user=okeunen --http-password=Orkeunen1 --load-cookies mycookies.txt --save-cookies mycookies.txt --keep-session-cookies --no-check-certificate --auth-no-challenge -r --reject \"index.html*\" -np -e robots=off https://n5eil01u.ecs.nsidc.org/MEASURES/NSIDC-0630.001/2002.05.29/NSIDC-0630-EASE2_T25km-AQUA_AMSRE-2002149-36V-A-GRD-RSS-v1.3.nc'"
      ]
     },
     "execution_count": 10,
     "metadata": {},
     "output_type": "execute_result"
    }
   ],
   "source": [
    "download_string"
   ]
  },
  {
   "cell_type": "code",
   "execution_count": null,
   "metadata": {},
   "outputs": [],
   "source": []
  }
 ],
 "metadata": {
  "kernelspec": {
   "display_name": "Python 3",
   "language": "python",
   "name": "python3"
  },
  "language_info": {
   "codemirror_mode": {
    "name": "ipython",
    "version": 3
   },
   "file_extension": ".py",
   "mimetype": "text/x-python",
   "name": "python",
   "nbconvert_exporter": "python",
   "pygments_lexer": "ipython3",
   "version": "3.8.1"
  }
 },
 "nbformat": 4,
 "nbformat_minor": 4
}
